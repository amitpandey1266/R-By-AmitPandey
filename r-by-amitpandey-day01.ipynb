{
 "cells": [
  {
   "cell_type": "code",
   "execution_count": 1,
   "metadata": {
    "_execution_state": "idle",
    "_uuid": "051d70d956493feee0c6d64651c6a088724dca2a",
    "execution": {
     "iopub.execute_input": "2020-10-13T12:23:12.005946Z",
     "iopub.status.busy": "2020-10-13T12:23:12.003826Z",
     "iopub.status.idle": "2020-10-13T12:23:13.741837Z",
     "shell.execute_reply": "2020-10-13T12:23:13.739992Z"
    },
    "papermill": {
     "duration": 1.786615,
     "end_time": "2020-10-13T12:23:13.742139",
     "exception": false,
     "start_time": "2020-10-13T12:23:11.955524",
     "status": "completed"
    },
    "tags": []
   },
   "outputs": [
    {
     "name": "stderr",
     "output_type": "stream",
     "text": [
      "── \u001b[1mAttaching packages\u001b[22m ─────────────────────────────────────── tidyverse 1.3.0 ──\n",
      "\n",
      "\u001b[32m✔\u001b[39m \u001b[34mggplot2\u001b[39m 3.3.2     \u001b[32m✔\u001b[39m \u001b[34mpurrr  \u001b[39m 0.3.4\n",
      "\u001b[32m✔\u001b[39m \u001b[34mtibble \u001b[39m 3.0.3     \u001b[32m✔\u001b[39m \u001b[34mdplyr  \u001b[39m 1.0.2\n",
      "\u001b[32m✔\u001b[39m \u001b[34mtidyr  \u001b[39m 1.1.2     \u001b[32m✔\u001b[39m \u001b[34mstringr\u001b[39m 1.4.0\n",
      "\u001b[32m✔\u001b[39m \u001b[34mreadr  \u001b[39m 1.3.1     \u001b[32m✔\u001b[39m \u001b[34mforcats\u001b[39m 0.5.0\n",
      "\n",
      "── \u001b[1mConflicts\u001b[22m ────────────────────────────────────────── tidyverse_conflicts() ──\n",
      "\u001b[31m✖\u001b[39m \u001b[34mdplyr\u001b[39m::\u001b[32mfilter()\u001b[39m masks \u001b[34mstats\u001b[39m::filter()\n",
      "\u001b[31m✖\u001b[39m \u001b[34mdplyr\u001b[39m::\u001b[32mlag()\u001b[39m    masks \u001b[34mstats\u001b[39m::lag()\n",
      "\n"
     ]
    },
    {
     "data": {
      "text/html": [],
      "text/latex": [],
      "text/markdown": [],
      "text/plain": [
       "character(0)"
      ]
     },
     "metadata": {},
     "output_type": "display_data"
    }
   ],
   "source": [
    "# This R environment comes with many helpful analytics packages installed\n",
    "# It is defined by the kaggle/rstats Docker image: https://github.com/kaggle/docker-rstats\n",
    "# For example, here's a helpful package to load\n",
    "\n",
    "library(tidyverse) # metapackage of all tidyverse packages\n",
    "\n",
    "# Input data files are available in the read-only \"../input/\" directory\n",
    "# For example, running this (by clicking run or pressing Shift+Enter) will list all files under the input directory\n",
    "\n",
    "list.files(path = \"../input\")\n",
    "\n",
    "# You can write up to 5GB to the current directory (/kaggle/working/) that gets preserved as output when you create a version using \"Save & Run All\" \n",
    "# You can also write temporary files to /kaggle/temp/, but they won't be saved outside of the current session"
   ]
  },
  {
   "cell_type": "code",
   "execution_count": 2,
   "metadata": {
    "execution": {
     "iopub.execute_input": "2020-10-13T12:23:13.821230Z",
     "iopub.status.busy": "2020-10-13T12:23:13.781192Z",
     "iopub.status.idle": "2020-10-13T12:23:13.835179Z",
     "shell.execute_reply": "2020-10-13T12:23:13.832909Z"
    },
    "papermill": {
     "duration": 0.075491,
     "end_time": "2020-10-13T12:23:13.835347",
     "exception": false,
     "start_time": "2020-10-13T12:23:13.759856",
     "status": "completed"
    },
    "tags": []
   },
   "outputs": [],
   "source": [
    "# My first program in R Programming\n",
    "myString <- \"Hello, World!.Welcome to R Session\""
   ]
  },
  {
   "cell_type": "code",
   "execution_count": 3,
   "metadata": {
    "execution": {
     "iopub.execute_input": "2020-10-13T12:23:13.875256Z",
     "iopub.status.busy": "2020-10-13T12:23:13.873619Z",
     "iopub.status.idle": "2020-10-13T12:23:13.891603Z",
     "shell.execute_reply": "2020-10-13T12:23:13.889600Z"
    },
    "papermill": {
     "duration": 0.039469,
     "end_time": "2020-10-13T12:23:13.891774",
     "exception": false,
     "start_time": "2020-10-13T12:23:13.852305",
     "status": "completed"
    },
    "tags": []
   },
   "outputs": [
    {
     "name": "stdout",
     "output_type": "stream",
     "text": [
      "[1] \"Hello, World!.Welcome to R Session\"\n"
     ]
    }
   ],
   "source": [
    "print(myString)"
   ]
  },
  {
   "cell_type": "markdown",
   "metadata": {
    "papermill": {
     "duration": 0.017402,
     "end_time": "2020-10-13T12:23:13.926810",
     "exception": false,
     "start_time": "2020-10-13T12:23:13.909408",
     "status": "completed"
    },
    "tags": []
   },
   "source": [
    "# Vectors\n",
    "# When you want to create vector with more than one element, you should use c() function which means to combine the elements into a vector."
   ]
  },
  {
   "cell_type": "code",
   "execution_count": 4,
   "metadata": {
    "execution": {
     "iopub.execute_input": "2020-10-13T12:23:13.968366Z",
     "iopub.status.busy": "2020-10-13T12:23:13.966867Z",
     "iopub.status.idle": "2020-10-13T12:23:13.985911Z",
     "shell.execute_reply": "2020-10-13T12:23:13.984513Z"
    },
    "papermill": {
     "duration": 0.041585,
     "end_time": "2020-10-13T12:23:13.986069",
     "exception": false,
     "start_time": "2020-10-13T12:23:13.944484",
     "status": "completed"
    },
    "tags": []
   },
   "outputs": [
    {
     "name": "stdout",
     "output_type": "stream",
     "text": [
      "[1] \"wine\"    \"beer\"    \"whiskey\"\n"
     ]
    }
   ],
   "source": [
    "# Create a vector.\n",
    "drinks <- c('wine','beer',\"whiskey\")\n",
    "print(drinks)"
   ]
  },
  {
   "cell_type": "code",
   "execution_count": 5,
   "metadata": {
    "execution": {
     "iopub.execute_input": "2020-10-13T12:23:14.029135Z",
     "iopub.status.busy": "2020-10-13T12:23:14.026710Z",
     "iopub.status.idle": "2020-10-13T12:23:14.050335Z",
     "shell.execute_reply": "2020-10-13T12:23:14.048938Z"
    },
    "papermill": {
     "duration": 0.046175,
     "end_time": "2020-10-13T12:23:14.050521",
     "exception": false,
     "start_time": "2020-10-13T12:23:14.004346",
     "status": "completed"
    },
    "tags": []
   },
   "outputs": [
    {
     "name": "stdout",
     "output_type": "stream",
     "text": [
      "[1] \"character\"\n"
     ]
    }
   ],
   "source": [
    "# Get the class of the vector.\n",
    "print(class(drinks))"
   ]
  },
  {
   "cell_type": "markdown",
   "metadata": {
    "papermill": {
     "duration": 0.01878,
     "end_time": "2020-10-13T12:23:14.087855",
     "exception": false,
     "start_time": "2020-10-13T12:23:14.069075",
     "status": "completed"
    },
    "tags": []
   },
   "source": [
    "# LIST\n",
    "# A list is an R-object which can contain many different types of elements inside it like vectors, functions and even another list inside it."
   ]
  },
  {
   "cell_type": "code",
   "execution_count": 6,
   "metadata": {
    "execution": {
     "iopub.execute_input": "2020-10-13T12:23:14.130062Z",
     "iopub.status.busy": "2020-10-13T12:23:14.128709Z",
     "iopub.status.idle": "2020-10-13T12:23:14.141112Z",
     "shell.execute_reply": "2020-10-13T12:23:14.140067Z"
    },
    "papermill": {
     "duration": 0.03501,
     "end_time": "2020-10-13T12:23:14.141285",
     "exception": false,
     "start_time": "2020-10-13T12:23:14.106275",
     "status": "completed"
    },
    "tags": []
   },
   "outputs": [],
   "source": [
    "# Create a list.\n",
    "New_list <- list(c(1,3,3,2,6,1,2,5,3),21.3,22.3,22.9,20.1,sin,cos,tan)"
   ]
  },
  {
   "cell_type": "code",
   "execution_count": 7,
   "metadata": {
    "execution": {
     "iopub.execute_input": "2020-10-13T12:23:14.183816Z",
     "iopub.status.busy": "2020-10-13T12:23:14.182457Z",
     "iopub.status.idle": "2020-10-13T12:23:14.200785Z",
     "shell.execute_reply": "2020-10-13T12:23:14.199456Z"
    },
    "papermill": {
     "duration": 0.041009,
     "end_time": "2020-10-13T12:23:14.200940",
     "exception": false,
     "start_time": "2020-10-13T12:23:14.159931",
     "status": "completed"
    },
    "tags": []
   },
   "outputs": [
    {
     "data": {
      "text/html": [
       "<ol>\n",
       "\t<li><style>\n",
       ".list-inline {list-style: none; margin:0; padding: 0}\n",
       ".list-inline>li {display: inline-block}\n",
       ".list-inline>li:not(:last-child)::after {content: \"\\00b7\"; padding: 0 .5ex}\n",
       "</style>\n",
       "<ol class=list-inline><li>1</li><li>3</li><li>3</li><li>2</li><li>6</li><li>1</li><li>2</li><li>5</li><li>3</li></ol>\n",
       "</li>\n",
       "\t<li>21.3</li>\n",
       "\t<li>22.3</li>\n",
       "\t<li>22.9</li>\n",
       "\t<li>20.1</li>\n",
       "\t<li><pre class=language-r><code>.Primitive(\"sin\")</code></pre></li>\n",
       "\t<li><pre class=language-r><code>.Primitive(\"cos\")</code></pre></li>\n",
       "\t<li><pre class=language-r><code>.Primitive(\"tan\")</code></pre></li>\n",
       "</ol>\n"
      ],
      "text/latex": [
       "\\begin{enumerate}\n",
       "\\item \\begin{enumerate*}\n",
       "\\item 1\n",
       "\\item 3\n",
       "\\item 3\n",
       "\\item 2\n",
       "\\item 6\n",
       "\\item 1\n",
       "\\item 2\n",
       "\\item 5\n",
       "\\item 3\n",
       "\\end{enumerate*}\n",
       "\n",
       "\\item 21.3\n",
       "\\item 22.3\n",
       "\\item 22.9\n",
       "\\item 20.1\n",
       "\\item \\begin{minted}{r}\n",
       ".Primitive(\"sin\")\n",
       "\\end{minted}\n",
       "\\item \\begin{minted}{r}\n",
       ".Primitive(\"cos\")\n",
       "\\end{minted}\n",
       "\\item \\begin{minted}{r}\n",
       ".Primitive(\"tan\")\n",
       "\\end{minted}\n",
       "\\end{enumerate}\n"
      ],
      "text/markdown": [
       "1. 1. 1\n",
       "2. 3\n",
       "3. 3\n",
       "4. 2\n",
       "5. 6\n",
       "6. 1\n",
       "7. 2\n",
       "8. 5\n",
       "9. 3\n",
       "\n",
       "\n",
       "\n",
       "2. 21.3\n",
       "3. 22.3\n",
       "4. 22.9\n",
       "5. 20.1\n",
       "6. ```r\n",
       ".Primitive(\"sin\")\n",
       "```\n",
       "7. ```r\n",
       ".Primitive(\"cos\")\n",
       "```\n",
       "8. ```r\n",
       ".Primitive(\"tan\")\n",
       "```\n",
       "\n",
       "\n"
      ],
      "text/plain": [
       "[[1]]\n",
       "[1] 1 3 3 2 6 1 2 5 3\n",
       "\n",
       "[[2]]\n",
       "[1] 21.3\n",
       "\n",
       "[[3]]\n",
       "[1] 22.3\n",
       "\n",
       "[[4]]\n",
       "[1] 22.9\n",
       "\n",
       "[[5]]\n",
       "[1] 20.1\n",
       "\n",
       "[[6]]\n",
       "function (x)  .Primitive(\"sin\")\n",
       "\n",
       "[[7]]\n",
       "function (x)  .Primitive(\"cos\")\n",
       "\n",
       "[[8]]\n",
       "function (x)  .Primitive(\"tan\")\n"
      ]
     },
     "metadata": {},
     "output_type": "display_data"
    }
   ],
   "source": [
    "New_list"
   ]
  },
  {
   "cell_type": "markdown",
   "metadata": {
    "papermill": {
     "duration": 0.019572,
     "end_time": "2020-10-13T12:23:14.240253",
     "exception": false,
     "start_time": "2020-10-13T12:23:14.220681",
     "status": "completed"
    },
    "tags": []
   },
   "source": [
    "# Matrices\n",
    "# A matrix is a two-dimensional rectangular data set. It can be created using a vector input to the matrix function."
   ]
  },
  {
   "cell_type": "code",
   "execution_count": 8,
   "metadata": {
    "execution": {
     "iopub.execute_input": "2020-10-13T12:23:14.285120Z",
     "iopub.status.busy": "2020-10-13T12:23:14.283772Z",
     "iopub.status.idle": "2020-10-13T12:23:14.296346Z",
     "shell.execute_reply": "2020-10-13T12:23:14.295291Z"
    },
    "papermill": {
     "duration": 0.036475,
     "end_time": "2020-10-13T12:23:14.296506",
     "exception": false,
     "start_time": "2020-10-13T12:23:14.260031",
     "status": "completed"
    },
    "tags": []
   },
   "outputs": [],
   "source": [
    "# Create a matrix.\n",
    "My_Matrix = matrix( c('2','1','10','3','9','1','2','0','1'), nrow = 3, ncol = 3, byrow = TRUE)"
   ]
  },
  {
   "cell_type": "code",
   "execution_count": 9,
   "metadata": {
    "execution": {
     "iopub.execute_input": "2020-10-13T12:23:14.341599Z",
     "iopub.status.busy": "2020-10-13T12:23:14.340351Z",
     "iopub.status.idle": "2020-10-13T12:23:14.360037Z",
     "shell.execute_reply": "2020-10-13T12:23:14.358719Z"
    },
    "papermill": {
     "duration": 0.043765,
     "end_time": "2020-10-13T12:23:14.360227",
     "exception": false,
     "start_time": "2020-10-13T12:23:14.316462",
     "status": "completed"
    },
    "tags": []
   },
   "outputs": [
    {
     "data": {
      "text/html": [
       "<table class=\"dataframe\">\n",
       "<caption>A matrix: 3 × 3 of type chr</caption>\n",
       "<tbody>\n",
       "\t<tr><td>2</td><td>1</td><td>10</td></tr>\n",
       "\t<tr><td>3</td><td>9</td><td>1 </td></tr>\n",
       "\t<tr><td>2</td><td>0</td><td>1 </td></tr>\n",
       "</tbody>\n",
       "</table>\n"
      ],
      "text/latex": [
       "A matrix: 3 × 3 of type chr\n",
       "\\begin{tabular}{lll}\n",
       "\t 2 & 1 & 10\\\\\n",
       "\t 3 & 9 & 1 \\\\\n",
       "\t 2 & 0 & 1 \\\\\n",
       "\\end{tabular}\n"
      ],
      "text/markdown": [
       "\n",
       "A matrix: 3 × 3 of type chr\n",
       "\n",
       "| 2 | 1 | 10 |\n",
       "| 3 | 9 | 1  |\n",
       "| 2 | 0 | 1  |\n",
       "\n"
      ],
      "text/plain": [
       "     [,1] [,2] [,3]\n",
       "[1,] 2    1    10  \n",
       "[2,] 3    9    1   \n",
       "[3,] 2    0    1   "
      ]
     },
     "metadata": {},
     "output_type": "display_data"
    }
   ],
   "source": [
    "My_Matrix"
   ]
  },
  {
   "cell_type": "markdown",
   "metadata": {
    "papermill": {
     "duration": 0.020855,
     "end_time": "2020-10-13T12:23:14.402264",
     "exception": false,
     "start_time": "2020-10-13T12:23:14.381409",
     "status": "completed"
    },
    "tags": []
   },
   "source": [
    "# Arrays\n",
    "# While matrices are confined to two dimensions, arrays can be of any number of dimensions. The array function takes a dim attribute which creates the required number of dimension. In the below example we create an array with two elements which are 3x3 matrices each."
   ]
  },
  {
   "cell_type": "code",
   "execution_count": 10,
   "metadata": {
    "execution": {
     "iopub.execute_input": "2020-10-13T12:23:14.449657Z",
     "iopub.status.busy": "2020-10-13T12:23:14.448256Z",
     "iopub.status.idle": "2020-10-13T12:23:14.464329Z",
     "shell.execute_reply": "2020-10-13T12:23:14.463105Z"
    },
    "papermill": {
     "duration": 0.041235,
     "end_time": "2020-10-13T12:23:14.464494",
     "exception": false,
     "start_time": "2020-10-13T12:23:14.423259",
     "status": "completed"
    },
    "tags": []
   },
   "outputs": [
    {
     "name": "stdout",
     "output_type": "stream",
     "text": [
      ", , 1\n",
      "\n",
      "     [,1]    [,2]    [,3]   \n",
      "[1,] \"Black\" \"White\" \"Black\"\n",
      "[2,] \"White\" \"Black\" \"White\"\n",
      "[3,] \"Black\" \"White\" \"Black\"\n",
      "\n",
      ", , 2\n",
      "\n",
      "     [,1]    [,2]    [,3]   \n",
      "[1,] \"White\" \"Black\" \"White\"\n",
      "[2,] \"Black\" \"White\" \"Black\"\n",
      "[3,] \"White\" \"Black\" \"White\"\n",
      "\n",
      ", , 3\n",
      "\n",
      "     [,1]    [,2]    [,3]   \n",
      "[1,] \"Black\" \"White\" \"Black\"\n",
      "[2,] \"White\" \"Black\" \"White\"\n",
      "[3,] \"Black\" \"White\" \"Black\"\n",
      "\n"
     ]
    }
   ],
   "source": [
    "# Create an array.\n",
    "My_Array <- array(c('Black','White'),dim = c(3,3,3))\n",
    "print(My_Array)"
   ]
  },
  {
   "cell_type": "markdown",
   "metadata": {
    "papermill": {
     "duration": 0.021715,
     "end_time": "2020-10-13T12:23:14.507951",
     "exception": false,
     "start_time": "2020-10-13T12:23:14.486236",
     "status": "completed"
    },
    "tags": []
   },
   "source": [
    "# Factors\n",
    "# Factors are the r-objects which are created using a vector. It stores the vector along with the distinct values of the elements in the vector as labels. The labels are always character irrespective of whether it is numeric or character or Boolean etc. in the input vector. They are useful in statistical modeling.\n",
    "# Factors are created using the factor() function. The nlevels functions gives the count of levels."
   ]
  },
  {
   "cell_type": "code",
   "execution_count": 11,
   "metadata": {
    "execution": {
     "iopub.execute_input": "2020-10-13T12:23:14.556669Z",
     "iopub.status.busy": "2020-10-13T12:23:14.555397Z",
     "iopub.status.idle": "2020-10-13T12:23:14.578471Z",
     "shell.execute_reply": "2020-10-13T12:23:14.576865Z"
    },
    "papermill": {
     "duration": 0.049015,
     "end_time": "2020-10-13T12:23:14.578640",
     "exception": false,
     "start_time": "2020-10-13T12:23:14.529625",
     "status": "completed"
    },
    "tags": []
   },
   "outputs": [
    {
     "name": "stdout",
     "output_type": "stream",
     "text": [
      " [1] blue   blue   white  black  green  yellow red    red    red    green \n",
      "Levels: black blue green red white yellow\n",
      "[1] 6\n"
     ]
    }
   ],
   "source": [
    "# Create a vector.\n",
    "My_colors <- c('blue','blue','white','black','green','yellow','red','red','red','green')\n",
    "\n",
    "# Create a factor object.\n",
    "factor_colour <- factor(My_colors)\n",
    "\n",
    "# Print the factor.\n",
    "print(factor_colour)\n",
    "print(nlevels(factor_colour))"
   ]
  },
  {
   "cell_type": "markdown",
   "metadata": {
    "papermill": {
     "duration": 0.022397,
     "end_time": "2020-10-13T12:23:14.623827",
     "exception": false,
     "start_time": "2020-10-13T12:23:14.601430",
     "status": "completed"
    },
    "tags": []
   },
   "source": [
    "# Data Frames\n",
    "# Data frames are tabular data objects. Unlike a matrix in data frame each column can contain different modes of data. The first column can be numeric while the second column can be character and third column can be logical. It is a list of vectors of equal length.\n",
    "# Data Frames are created using the data.frame() function."
   ]
  },
  {
   "cell_type": "code",
   "execution_count": 12,
   "metadata": {
    "execution": {
     "iopub.execute_input": "2020-10-13T12:23:14.673746Z",
     "iopub.status.busy": "2020-10-13T12:23:14.672577Z",
     "iopub.status.idle": "2020-10-13T12:23:14.692078Z",
     "shell.execute_reply": "2020-10-13T12:23:14.690604Z"
    },
    "papermill": {
     "duration": 0.046053,
     "end_time": "2020-10-13T12:23:14.692255",
     "exception": false,
     "start_time": "2020-10-13T12:23:14.646202",
     "status": "completed"
    },
    "tags": []
   },
   "outputs": [
    {
     "name": "stdout",
     "output_type": "stream",
     "text": [
      "  Gender Height Weight Age    Profession\n",
      "1   Male  152.0     81  42 Self-employed\n",
      "2   Male  171.5     93  38       Teacher\n",
      "3   Male  165.0     78  26        Banker\n",
      "4 Female  182.0     82  39          Sale\n",
      "5 Female  178.0     67  28         Clerk\n",
      "6   Male  170.5     80  21       Teacher\n"
     ]
    }
   ],
   "source": [
    "# Create the data frame.\n",
    "My_DataFrame <- data.frame(\n",
    "   Gender = c(\"Male\", \"Male\",\"Male\",\"Female\",\"Female\",\"Male\"), \n",
    "   Height = c(152, 171.5, 165,182,178,170.5), \n",
    "   Weight = c(81,93,78,82,67,80),\n",
    "   Age = c(42,38,26,39,28,21),\n",
    "   Profession= c(\"Self-employed\",\"Teacher\",\"Banker\",\"Sale\",\"Clerk\",\"Teacher\")\n",
    ")\n",
    "print(My_DataFrame)"
   ]
  },
  {
   "cell_type": "markdown",
   "metadata": {
    "papermill": {
     "duration": 0.023126,
     "end_time": "2020-10-13T12:23:14.738962",
     "exception": false,
     "start_time": "2020-10-13T12:23:14.715836",
     "status": "completed"
    },
    "tags": []
   },
   "source": [
    "# Variable Assignment\n",
    "# The variables can be assigned values using leftward, rightward and equal to operator. The values of the variables can be printed using print() or cat() function. The cat() function combines multiple items into a continuous print output."
   ]
  },
  {
   "cell_type": "code",
   "execution_count": 13,
   "metadata": {
    "execution": {
     "iopub.execute_input": "2020-10-13T12:23:14.790641Z",
     "iopub.status.busy": "2020-10-13T12:23:14.789201Z",
     "iopub.status.idle": "2020-10-13T12:23:14.822981Z",
     "shell.execute_reply": "2020-10-13T12:23:14.821371Z"
    },
    "papermill": {
     "duration": 0.061343,
     "end_time": "2020-10-13T12:23:14.823135",
     "exception": false,
     "start_time": "2020-10-13T12:23:14.761792",
     "status": "completed"
    },
    "tags": []
   },
   "outputs": [
    {
     "name": "stdout",
     "output_type": "stream",
     "text": [
      "[1] 1 2 2 2 3 6 3 2\n",
      "var.1 is  1 2 2 2 3 6 3 2 \n",
      "var.2 is  Learn Python Not R \n",
      "var.3 is  1 1 \n"
     ]
    }
   ],
   "source": [
    "# Assignment using equal operator.\n",
    "var.1 = c(1,2,2,2,3,6,3,2)           \n",
    "\n",
    "# Assignment using leftward operator.\n",
    "var.2 <- c(\"Learn\",\"Python\",\"Not\",\"R\")   \n",
    "\n",
    "# Assignment using rightward operator.   \n",
    "c(TRUE,1) -> var.3           \n",
    "\n",
    "print(var.1)\n",
    "cat (\"var.1 is \", var.1 ,\"\\n\")\n",
    "cat (\"var.2 is \", var.2 ,\"\\n\")\n",
    "cat (\"var.3 is \", var.3 ,\"\\n\")"
   ]
  },
  {
   "cell_type": "markdown",
   "metadata": {
    "papermill": {
     "duration": 0.024659,
     "end_time": "2020-10-13T12:23:14.872905",
     "exception": false,
     "start_time": "2020-10-13T12:23:14.848246",
     "status": "completed"
    },
    "tags": []
   },
   "source": [
    "# To be continued ....... "
   ]
  },
  {
   "cell_type": "code",
   "execution_count": null,
   "metadata": {
    "papermill": {
     "duration": 0.024728,
     "end_time": "2020-10-13T12:23:14.922405",
     "exception": false,
     "start_time": "2020-10-13T12:23:14.897677",
     "status": "completed"
    },
    "tags": []
   },
   "outputs": [],
   "source": []
  }
 ],
 "metadata": {
  "kernelspec": {
   "display_name": "R",
   "language": "R",
   "name": "ir"
  },
  "language_info": {
   "codemirror_mode": "r",
   "file_extension": ".r",
   "mimetype": "text/x-r-source",
   "name": "R",
   "pygments_lexer": "r",
   "version": "3.6.3"
  },
  "papermill": {
   "duration": 6.254119,
   "end_time": "2020-10-13T12:23:15.057523",
   "environment_variables": {},
   "exception": null,
   "input_path": "__notebook__.ipynb",
   "output_path": "__notebook__.ipynb",
   "parameters": {},
   "start_time": "2020-10-13T12:23:08.803404",
   "version": "2.1.3"
  }
 },
 "nbformat": 4,
 "nbformat_minor": 4
}
